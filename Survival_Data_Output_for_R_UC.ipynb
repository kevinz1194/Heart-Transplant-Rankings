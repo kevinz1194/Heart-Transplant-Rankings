{
 "cells": [
  {
   "cell_type": "markdown",
   "id": "09d2aa03",
   "metadata": {},
   "source": [
    "### *Before running the rest of the notebook, it is necessary to run Survival_Data_Initial_Processing_UC.ipynb*\n",
    "\n",
    "#### This program takes previously processed data and prepares it to be exported to csv files for calculations in R\n",
    "#### Continuous variables are mean-adjusted, which isn't technically necessary for measures of discrimination such as the c-index, but is convenient for some interpretations. \n"
   ]
  },
  {
   "cell_type": "code",
   "execution_count": 1,
   "id": "39961d5a",
   "metadata": {},
   "outputs": [
    {
     "name": "stdout",
     "output_type": "stream",
     "text": [
      "472\n"
     ]
    }
   ],
   "source": [
    "#Run data processing notebook\n",
    "%run /Users/kevinz94/Desktop/HeartDataPipeline/Survival_Data_Initial_Processing_UC.ipynb"
   ]
  },
  {
   "cell_type": "code",
   "execution_count": 2,
   "id": "61d1b6b6",
   "metadata": {},
   "outputs": [],
   "source": [
    "#Calculate the mean of each variable for the earlier cohort \n",
    "age_mean_early = df_early['age'].mean()\n",
    "listing_year_mean_early = df_early['listing_year'].mean()\n",
    "gfr_mean_early = df_early['gfr'].mean()\n",
    "cardiac_index_mean_early = df_early['cardiac_index'].mean()\n",
    "can_pulm_art_mean_mean_early = df_early['CAN_PULM_ART_MEAN'].mean()\n",
    "can_pcw_mean_mean_early = df_early['CAN_PCW_MEAN'].mean()\n",
    "can_bmi_mean_early = df_early['CAN_BMI'].mean()\n",
    "\n",
    "#Subtract the mean from each value by using \"apply\" to apply a function that we define as subtracting the mean\n",
    "df_early = df_early.assign(age_m = df_early.apply(lambda x: x['age'] - age_mean_early,axis=1))\n",
    "df_early = df_early.assign(listing_year_m = df_early.apply(lambda x: x['listing_year'] - listing_year_mean_early,axis=1))\n",
    "df_early = df_early.assign(gfr_m = df_early.apply(lambda x: x['gfr'] - gfr_mean_early,axis=1))\n",
    "df_early = df_early.assign(cardiac_index_m = df_early.apply(lambda x: x['cardiac_index'] - cardiac_index_mean_early,axis=1))\n",
    "df_early = df_early.assign(can_pulm_art_mean_m = df_early.apply(lambda x: x['CAN_PULM_ART_MEAN'] - can_pulm_art_mean_mean_early,axis=1))\n",
    "df_early = df_early.assign(can_pcw_mean_m = df_early.apply(lambda x: x['CAN_PCW_MEAN'] - can_pcw_mean_mean_early,axis=1))\n",
    "df_early = df_early.assign(can_bmi_m = df_early.apply(lambda x: x['CAN_BMI'] - can_bmi_mean_early,axis=1))"
   ]
  },
  {
   "cell_type": "code",
   "execution_count": 3,
   "id": "5e930287",
   "metadata": {},
   "outputs": [],
   "source": [
    "#Subtract the mean from the later cohort\n",
    "\n",
    "df_later = df_later.assign(age_m = df_later.apply(lambda x: x['age'] - age_mean_early,axis=1))\n",
    "df_later = df_later.assign(listing_year_m = df_later.apply(lambda x: x['listing_year'] - listing_year_mean_early,axis=1))\n",
    "df_later = df_later.assign(gfr_m = df_later.apply(lambda x: x['gfr'] - gfr_mean_early,axis=1))\n",
    "df_later = df_later.assign(cardiac_index_m = df_later.apply(lambda x: x['cardiac_index'] - cardiac_index_mean_early,axis=1))\n",
    "df_later = df_later.assign(can_pulm_art_mean_m = df_later.apply(lambda x: x['CAN_PULM_ART_MEAN'] - can_pulm_art_mean_mean_early,axis=1))\n",
    "df_later = df_later.assign(can_pcw_mean_m = df_later.apply(lambda x: x['CAN_PCW_MEAN'] - can_pcw_mean_mean_early,axis=1))\n",
    "df_later = df_later.assign(can_bmi_m = df_later.apply(lambda x: x['CAN_BMI'] - can_bmi_mean_early,axis=1))"
   ]
  },
  {
   "cell_type": "code",
   "execution_count": 4,
   "id": "4e3f9dbc",
   "metadata": {},
   "outputs": [],
   "source": [
    "#Create new dataframe for6 that includes statuses\n",
    "\n",
    "for6 = df_later.assign(status6=0)\n",
    "condition = (for6['CAN_INIT_STAT']==2110)\n",
    "for6.loc[condition,'status6'] = 1\n",
    "condition = (for6['CAN_INIT_STAT']==2120)\n",
    "for6.loc[condition,'status6'] = 2\n",
    "condition = (for6['CAN_INIT_STAT']==2130)\n",
    "for6.loc[condition,'status6'] = 3\n",
    "condition = (for6['CAN_INIT_STAT']==2140)\n",
    "for6.loc[condition,'status6'] = 4\n",
    "condition = (for6['CAN_INIT_STAT']==2150)\n",
    "for6.loc[condition,'status6'] = 5\n",
    "condition = (for6['CAN_INIT_STAT']==2160)\n",
    "for6.loc[condition,'status6'] = 6"
   ]
  },
  {
   "cell_type": "code",
   "execution_count": 5,
   "id": "e9644466",
   "metadata": {},
   "outputs": [],
   "source": [
    "#Dataframe that we will use to calculate the c-index for the 6-status system\n",
    "df6 = for6[[\"died_noT\",\"t\",\"status6\"]]\n",
    "df6.to_csv('/Users/kevinz94/Desktop/HeartDataPipeline/later6.csv')"
   ]
  },
  {
   "cell_type": "code",
   "execution_count": 6,
   "id": "ea8a5db8",
   "metadata": {},
   "outputs": [],
   "source": [
    "#Files requested for group\n",
    "for_group_early = df_early[[\"PX_ID\",\"died_noT\",\"t\"]]\n",
    "for_group_later = for6[[\"PX_ID\",\"died_noT\",\"t\",\"status6\"]]\n",
    "for_group_early.to_csv('/Users/kevinz94/Desktop/HeartDataPipeline/for_group_early.csv')\n",
    "for_group_later.to_csv('/Users/kevinz94/Desktop/HeartDataPipeline/for_group_later.csv')"
   ]
  },
  {
   "cell_type": "code",
   "execution_count": 7,
   "id": "75d91c95",
   "metadata": {},
   "outputs": [],
   "source": [
    "#Here we select only the variables that we will use as input to our calculations in R\n",
    "df_early = df_early[[\"died_noT\",\"t\",\"age_m\",\"listing_year_m\",\"can_bmi_m\",\"gfr_m\",\"cardiac_index_m\",\"can_pulm_art_mean_m\",\"can_pcw_mean_m\",\"diag_restricted\",\"diag_hypertrophic\",\"diag_valvular\",\"diag_congenital\",\"diag_ischemic\",\"diag_OTHER\",\"diabetes\",\"malig\",\"tobacco\",\"cereb_vasc\",\"blood_type_A\",\"blood_type_AB\",\"blood_type_B\",\"other_vad\",\"lvad\",\"CAN_ECMO\",\"CAN_IABP\",\"CAN_IV_INOTROP\"]]\n",
    "df_later = df_later[[\"died_noT\",\"t\",\"age_m\",\"listing_year_m\",\"can_bmi_m\",\"gfr_m\",\"cardiac_index_m\",\"can_pulm_art_mean_m\",\"can_pcw_mean_m\",\"diag_restricted\",\"diag_hypertrophic\",\"diag_valvular\",\"diag_congenital\",\"diag_ischemic\",\"diag_OTHER\",\"diabetes\",\"malig\",\"tobacco\",\"cereb_vasc\",\"blood_type_A\",\"blood_type_AB\",\"blood_type_B\",\"other_vad\",\"lvad\",\"CAN_ECMO\",\"CAN_IABP\",\"CAN_IV_INOTROP\"]]"
   ]
  },
  {
   "cell_type": "code",
   "execution_count": 8,
   "id": "75569d87",
   "metadata": {},
   "outputs": [],
   "source": [
    "#Print to csv\n",
    "df_early.to_csv('/Users/kevinz94/Desktop/HeartDataPipeline/early_cohort_data.csv')\n",
    "df_later.to_csv('/Users/kevinz94/Desktop/HeartDataPipeline/late_cohort_data.csv')"
   ]
  },
  {
   "cell_type": "code",
   "execution_count": 9,
   "id": "2923faf6",
   "metadata": {},
   "outputs": [
    {
     "data": {
      "text/plain": [
       "died_noT               0.000000\n",
       "t                      0.000000\n",
       "age_m                  0.000000\n",
       "listing_year_m         0.000000\n",
       "can_bmi_m              0.318945\n",
       "gfr_m                  0.315848\n",
       "cardiac_index_m        6.375797\n",
       "can_pulm_art_mean_m    4.839908\n",
       "can_pcw_mean_m         9.726265\n",
       "diag_restricted        0.000000\n",
       "diag_hypertrophic      0.000000\n",
       "diag_valvular          0.000000\n",
       "diag_congenital        0.000000\n",
       "diag_ischemic          0.000000\n",
       "diag_OTHER             0.000000\n",
       "diabetes               0.000000\n",
       "malig                  0.000000\n",
       "tobacco                0.000000\n",
       "cereb_vasc             0.000000\n",
       "blood_type_A           0.000000\n",
       "blood_type_AB          0.000000\n",
       "blood_type_B           0.000000\n",
       "other_vad              0.000000\n",
       "lvad                   0.000000\n",
       "CAN_ECMO               0.000000\n",
       "CAN_IABP               0.000000\n",
       "CAN_IV_INOTROP         0.000000\n",
       "dtype: float64"
      ]
     },
     "execution_count": 9,
     "metadata": {},
     "output_type": "execute_result"
    }
   ],
   "source": [
    "#Print percent missing for each variable\n",
    "((df_early.isna().sum() + df_later.isna().sum())/(df_early.shape[0]+df_later.shape[0]))*100"
   ]
  },
  {
   "cell_type": "code",
   "execution_count": null,
   "id": "a7891a31",
   "metadata": {},
   "outputs": [],
   "source": []
  }
 ],
 "metadata": {
  "kernelspec": {
   "display_name": "Python 3 (ipykernel)",
   "language": "python",
   "name": "python3"
  },
  "language_info": {
   "codemirror_mode": {
    "name": "ipython",
    "version": 3
   },
   "file_extension": ".py",
   "mimetype": "text/x-python",
   "name": "python",
   "nbconvert_exporter": "python",
   "pygments_lexer": "ipython3",
   "version": "3.9.12"
  }
 },
 "nbformat": 4,
 "nbformat_minor": 5
}
